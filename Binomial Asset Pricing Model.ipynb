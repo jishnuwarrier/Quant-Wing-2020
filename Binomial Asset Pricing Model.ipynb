{
 "cells": [
  {
   "cell_type": "code",
   "execution_count": 1,
   "metadata": {},
   "outputs": [],
   "source": [
    "import numpy as np"
   ]
  },
  {
   "cell_type": "code",
   "execution_count": 2,
   "metadata": {},
   "outputs": [],
   "source": [
    "def Option_Price(s0, k, t, r, vol, n, call=True):\n",
    "    \n",
    "    '''\n",
    "    Parameters\n",
    "    s0 = stock price today\n",
    "    k = strike price\n",
    "    t = time frame\n",
    "    r = risk free interest rate\n",
    "    vol = volatility\n",
    "    n = number of binomial steps\n",
    "    '''\n",
    "    \n",
    "    ts = t/n #time step\n",
    "    u = np.exp(vol * np.sqrt(ts))\n",
    "    d = 1/u\n",
    "    p = (np.exp(r * ts) - d)/(u - d)\n",
    "    bin_tree = np.zeros([n+1, n+1])\n",
    "    bin_tree[0,0] = s0\n",
    "    \n",
    "    #creating the binomial tree\n",
    "    for i in range(n+1):\n",
    "        for j in range(n+1):\n",
    "            bin_tree[j, i] = s0 * (np.power(d, j)) * np.power(u, (i-j))\n",
    "            \n",
    "    #creating the option tree\n",
    "    opt_tree = np.zeros([n+1, n+1])\n",
    "    if call==True:\n",
    "        opt_tree[:,n] = np.maximum(np.zeros(n+1), bin_tree[:,n]-k)\n",
    "    else:\n",
    "        opt_tree[:,n] = np.maximum(np.zeros(n+1), k-bin_tree[:,n])\n",
    "\n",
    "    #for time t=0\n",
    "    for i in range (n-1,-1,-1):\n",
    "        for j in range (0, i+1):\n",
    "            opt_tree[j, i] = np.exp(-r*ts) * ((p*opt_tree[j, i+1]) + (1-p)*opt_tree[j+1, i+1])\n",
    "            \n",
    "    return opt_tree[0, 0]"
   ]
  },
  {
   "cell_type": "code",
   "execution_count": 3,
   "metadata": {
    "tags": []
   },
   "outputs": [
    {
     "output_type": "stream",
     "name": "stdout",
     "text": "7.566768464141386\n"
    }
   ],
   "source": [
    "print(Option_Price(s0=100, k=95, t=1, r=0.01, vol=0.1, n=10, call=True))"
   ]
  }
 ],
 "metadata": {
  "kernelspec": {
   "display_name": "Python 3",
   "language": "python",
   "name": "python3"
  },
  "language_info": {
   "codemirror_mode": {
    "name": "ipython",
    "version": 3
   },
   "file_extension": ".py",
   "mimetype": "text/x-python",
   "name": "python",
   "nbconvert_exporter": "python",
   "pygments_lexer": "ipython3",
   "version": "3.8.3-final"
  }
 },
 "nbformat": 4,
 "nbformat_minor": 4
}